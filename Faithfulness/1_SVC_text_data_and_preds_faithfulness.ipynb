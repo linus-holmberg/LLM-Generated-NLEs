{
 "cells": [
  {
   "cell_type": "code",
   "execution_count": 1,
   "metadata": {},
   "outputs": [],
   "source": [
    "from sklearn.datasets import fetch_20newsgroups\n",
    "import numpy as np\n",
    "from sklearn.pipeline import Pipeline\n",
    "from sklearn.feature_extraction.text import TfidfVectorizer\n",
    "from sklearn.svm import SVC\n",
    "from sklearn.model_selection import cross_validate\n",
    "from sklearn.metrics import make_scorer, f1_score\n",
    "from lime.lime_text import LimeTextExplainer\n",
    "import csv\n",
    "import json\n",
    "from nltk.stem import WordNetLemmatizer \n",
    "import re\n",
    "from sklearn.feature_extraction.text import TfidfVectorizer\n",
    "from nltk.corpus import stopwords\n",
    "import random"
   ]
  },
  {
   "cell_type": "markdown",
   "metadata": {},
   "source": [
    "# Load sub-cateories from 20newsgroups dataset"
   ]
  },
  {
   "cell_type": "code",
   "execution_count": 2,
   "metadata": {},
   "outputs": [
    {
     "data": {
      "text/plain": [
       "4219"
      ]
     },
     "execution_count": 2,
     "metadata": {},
     "output_type": "execute_result"
    }
   ],
   "source": [
    "# Selecting same categories as Riveiro & Thill (2021) and removing parts in the data that may bias the model (headers/footers/quotes). \n",
    "cats = ['talk.politics.guns', 'talk.politics.mideast', 'talk.politics.misc',\n",
    "        'sci.crypt', 'sci.electronics', 'sci.med', 'sci.space',\n",
    "        'rec.autos', 'rec.motorcycles', 'rec.sport.baseball', 'rec.sport.hockey']\n",
    "\n",
    "# Fetching the dataset\n",
    "data_train = fetch_20newsgroups(subset='train', categories=cats, remove=('headers', 'footers', 'quotes'), random_state=1)\n",
    "data_test = fetch_20newsgroups(subset='test', categories=cats, remove=('headers', 'footers', 'quotes'), random_state=1)\n",
    "\n",
    "# Original labels\n",
    "train_label = data_train.target\n",
    "test_label = data_test.target\n",
    "\n",
    "\n",
    "\n",
    "# Define a mapping from detailed categories to broader ones (giving all overarching categories the same label)\n",
    "category_mapping = {label: 'politics' if label.startswith('talk') else\n",
    "                           'science' if label.startswith('sci') else\n",
    "                           'leisure' for label in data_train.target_names}\n",
    "\n",
    "# Convert target names to broad categories\n",
    "broad_categories = [category_mapping[name] for name in data_train.target_names]\n",
    "\n",
    "\n",
    "# Adjusting the original labels to broad category names directly\n",
    "train_broad_labels_names = np.array([category_mapping[data_train.target_names[label]] for label in train_label])\n",
    "test_broad_labels_names = np.array([category_mapping[data_test.target_names[label]] for label in test_label])\n",
    "\n",
    "\n",
    "len(test_label)\n"
   ]
  },
  {
   "cell_type": "markdown",
   "metadata": {},
   "source": [
    "# Pre-Process / Clean "
   ]
  },
  {
   "cell_type": "code",
   "execution_count": 3,
   "metadata": {},
   "outputs": [],
   "source": [
    "def preprocessing_text(text):\n",
    "    lemmatizer = WordNetLemmatizer()\n",
    "    emoji_pattern = r'^(?:[\\u2700-\\u27bf]|(?:\\ud83c[\\udde6-\\uddff]){1,2}|(?:\\ud83d[\\udc00-\\ude4f]){1,2}|[\\ud800-\\udbff][\\udc00-\\udfff]|[\\u0021-\\u002f\\u003a-\\u0040\\u005b-\\u0060\\u007b-\\u007e]|\\u3299|\\u3297|\\u303d|\\u3030|\\u24c2|\\ud83c[\\udd70-\\udd71]|\\ud83c[\\udd7e-\\udd7f]|\\ud83c\\udd8e|\\ud83c[\\udd91-\\udd9a]|\\ud83c[\\udde6-\\uddff]|\\ud83c[\\ude01-\\ude02]|\\ud83c\\ude1a|\\ud83c\\ude2f|\\ud83c[\\ude32-\\ude3a]|\\ud83c[\\ude50-\\ude51]|\\u203c|\\u2049|\\u25aa|\\u25ab|\\u25b6|\\u25c0|\\u25fb|\\u25fc|\\u25fd|\\u25fe|\\u2600|\\u2601|\\u260e|\\u2611|[^\\u0000-\\u007F])+$'\n",
    "    \n",
    "    text= text.lower()\n",
    "    text = text.split()\n",
    "    text = [lemmatizer.lemmatize(word) for word in text if not word in set(stopwords.words('english'))]\n",
    "    text = ' '.join(text)  \n",
    "    text = re.sub(r'[0-9]+', '', text)\n",
    "    text = re.sub(r'[^\\w\\s]', '', text)\n",
    "    text = re.sub(emoji_pattern, '', text)\n",
    "    text= re.sub(r'\\s+', ' ', text)\n",
    "    \n",
    "    return text"
   ]
  },
  {
   "cell_type": "markdown",
   "metadata": {},
   "source": [
    "# Model / Pipeline"
   ]
  },
  {
   "cell_type": "code",
   "execution_count": 4,
   "metadata": {},
   "outputs": [],
   "source": [
    "#stop_words = text.ENGLISH_STOP_WORDS\n",
    "stop_words = list(set(stopwords.words('english')))\n",
    "\n",
    "svc_pipe = Pipeline(\n",
    "   [ (\"vect\",TfidfVectorizer(preprocessor=preprocessing_text, lowercase=True, stop_words=stop_words, ngram_range=(1, 1))),\n",
    "    (\"clf\", SVC(probability=True))])"
   ]
  },
  {
   "cell_type": "code",
   "execution_count": 5,
   "metadata": {},
   "outputs": [
    {
     "data": {
      "text/html": [
       "<style>#sk-container-id-1 {color: black;}#sk-container-id-1 pre{padding: 0;}#sk-container-id-1 div.sk-toggleable {background-color: white;}#sk-container-id-1 label.sk-toggleable__label {cursor: pointer;display: block;width: 100%;margin-bottom: 0;padding: 0.3em;box-sizing: border-box;text-align: center;}#sk-container-id-1 label.sk-toggleable__label-arrow:before {content: \"▸\";float: left;margin-right: 0.25em;color: #696969;}#sk-container-id-1 label.sk-toggleable__label-arrow:hover:before {color: black;}#sk-container-id-1 div.sk-estimator:hover label.sk-toggleable__label-arrow:before {color: black;}#sk-container-id-1 div.sk-toggleable__content {max-height: 0;max-width: 0;overflow: hidden;text-align: left;background-color: #f0f8ff;}#sk-container-id-1 div.sk-toggleable__content pre {margin: 0.2em;color: black;border-radius: 0.25em;background-color: #f0f8ff;}#sk-container-id-1 input.sk-toggleable__control:checked~div.sk-toggleable__content {max-height: 200px;max-width: 100%;overflow: auto;}#sk-container-id-1 input.sk-toggleable__control:checked~label.sk-toggleable__label-arrow:before {content: \"▾\";}#sk-container-id-1 div.sk-estimator input.sk-toggleable__control:checked~label.sk-toggleable__label {background-color: #d4ebff;}#sk-container-id-1 div.sk-label input.sk-toggleable__control:checked~label.sk-toggleable__label {background-color: #d4ebff;}#sk-container-id-1 input.sk-hidden--visually {border: 0;clip: rect(1px 1px 1px 1px);clip: rect(1px, 1px, 1px, 1px);height: 1px;margin: -1px;overflow: hidden;padding: 0;position: absolute;width: 1px;}#sk-container-id-1 div.sk-estimator {font-family: monospace;background-color: #f0f8ff;border: 1px dotted black;border-radius: 0.25em;box-sizing: border-box;margin-bottom: 0.5em;}#sk-container-id-1 div.sk-estimator:hover {background-color: #d4ebff;}#sk-container-id-1 div.sk-parallel-item::after {content: \"\";width: 100%;border-bottom: 1px solid gray;flex-grow: 1;}#sk-container-id-1 div.sk-label:hover label.sk-toggleable__label {background-color: #d4ebff;}#sk-container-id-1 div.sk-serial::before {content: \"\";position: absolute;border-left: 1px solid gray;box-sizing: border-box;top: 0;bottom: 0;left: 50%;z-index: 0;}#sk-container-id-1 div.sk-serial {display: flex;flex-direction: column;align-items: center;background-color: white;padding-right: 0.2em;padding-left: 0.2em;position: relative;}#sk-container-id-1 div.sk-item {position: relative;z-index: 1;}#sk-container-id-1 div.sk-parallel {display: flex;align-items: stretch;justify-content: center;background-color: white;position: relative;}#sk-container-id-1 div.sk-item::before, #sk-container-id-1 div.sk-parallel-item::before {content: \"\";position: absolute;border-left: 1px solid gray;box-sizing: border-box;top: 0;bottom: 0;left: 50%;z-index: -1;}#sk-container-id-1 div.sk-parallel-item {display: flex;flex-direction: column;z-index: 1;position: relative;background-color: white;}#sk-container-id-1 div.sk-parallel-item:first-child::after {align-self: flex-end;width: 50%;}#sk-container-id-1 div.sk-parallel-item:last-child::after {align-self: flex-start;width: 50%;}#sk-container-id-1 div.sk-parallel-item:only-child::after {width: 0;}#sk-container-id-1 div.sk-dashed-wrapped {border: 1px dashed gray;margin: 0 0.4em 0.5em 0.4em;box-sizing: border-box;padding-bottom: 0.4em;background-color: white;}#sk-container-id-1 div.sk-label label {font-family: monospace;font-weight: bold;display: inline-block;line-height: 1.2em;}#sk-container-id-1 div.sk-label-container {text-align: center;}#sk-container-id-1 div.sk-container {/* jupyter's `normalize.less` sets `[hidden] { display: none; }` but bootstrap.min.css set `[hidden] { display: none !important; }` so we also need the `!important` here to be able to override the default hidden behavior on the sphinx rendered scikit-learn.org. See: https://github.com/scikit-learn/scikit-learn/issues/21755 */display: inline-block !important;position: relative;}#sk-container-id-1 div.sk-text-repr-fallback {display: none;}</style><div id=\"sk-container-id-1\" class=\"sk-top-container\"><div class=\"sk-text-repr-fallback\"><pre>Pipeline(steps=[(&#x27;vect&#x27;,\n",
       "                 TfidfVectorizer(preprocessor=&lt;function preprocessing_text at 0x157c3d8a0&gt;,\n",
       "                                 stop_words=[&#x27;whom&#x27;, &#x27;about&#x27;, &#x27;into&#x27;, &#x27;her&#x27;,\n",
       "                                             &#x27;itself&#x27;, &quot;should&#x27;ve&quot;, &#x27;you&#x27;,\n",
       "                                             &#x27;below&#x27;, &#x27;ma&#x27;, &#x27;has&#x27;, &#x27;while&#x27;,\n",
       "                                             &quot;shouldn&#x27;t&quot;, &#x27;how&#x27;, &#x27;once&#x27;,\n",
       "                                             &#x27;doing&#x27;, &#x27;down&#x27;, &#x27;out&#x27;, &#x27;haven&#x27;,\n",
       "                                             &#x27;can&#x27;, &#x27;mustn&#x27;, &#x27;further&#x27;, &#x27;for&#x27;,\n",
       "                                             &#x27;against&#x27;, &#x27;up&#x27;, &#x27;as&#x27;, &#x27;only&#x27;,\n",
       "                                             &#x27;doesn&#x27;, &#x27;is&#x27;, &#x27;them&#x27;, &#x27;at&#x27;, ...])),\n",
       "                (&#x27;clf&#x27;, SVC(probability=True))])</pre><b>In a Jupyter environment, please rerun this cell to show the HTML representation or trust the notebook. <br />On GitHub, the HTML representation is unable to render, please try loading this page with nbviewer.org.</b></div><div class=\"sk-container\" hidden><div class=\"sk-item sk-dashed-wrapped\"><div class=\"sk-label-container\"><div class=\"sk-label sk-toggleable\"><input class=\"sk-toggleable__control sk-hidden--visually\" id=\"sk-estimator-id-1\" type=\"checkbox\" ><label for=\"sk-estimator-id-1\" class=\"sk-toggleable__label sk-toggleable__label-arrow\">Pipeline</label><div class=\"sk-toggleable__content\"><pre>Pipeline(steps=[(&#x27;vect&#x27;,\n",
       "                 TfidfVectorizer(preprocessor=&lt;function preprocessing_text at 0x157c3d8a0&gt;,\n",
       "                                 stop_words=[&#x27;whom&#x27;, &#x27;about&#x27;, &#x27;into&#x27;, &#x27;her&#x27;,\n",
       "                                             &#x27;itself&#x27;, &quot;should&#x27;ve&quot;, &#x27;you&#x27;,\n",
       "                                             &#x27;below&#x27;, &#x27;ma&#x27;, &#x27;has&#x27;, &#x27;while&#x27;,\n",
       "                                             &quot;shouldn&#x27;t&quot;, &#x27;how&#x27;, &#x27;once&#x27;,\n",
       "                                             &#x27;doing&#x27;, &#x27;down&#x27;, &#x27;out&#x27;, &#x27;haven&#x27;,\n",
       "                                             &#x27;can&#x27;, &#x27;mustn&#x27;, &#x27;further&#x27;, &#x27;for&#x27;,\n",
       "                                             &#x27;against&#x27;, &#x27;up&#x27;, &#x27;as&#x27;, &#x27;only&#x27;,\n",
       "                                             &#x27;doesn&#x27;, &#x27;is&#x27;, &#x27;them&#x27;, &#x27;at&#x27;, ...])),\n",
       "                (&#x27;clf&#x27;, SVC(probability=True))])</pre></div></div></div><div class=\"sk-serial\"><div class=\"sk-item\"><div class=\"sk-estimator sk-toggleable\"><input class=\"sk-toggleable__control sk-hidden--visually\" id=\"sk-estimator-id-2\" type=\"checkbox\" ><label for=\"sk-estimator-id-2\" class=\"sk-toggleable__label sk-toggleable__label-arrow\">TfidfVectorizer</label><div class=\"sk-toggleable__content\"><pre>TfidfVectorizer(preprocessor=&lt;function preprocessing_text at 0x157c3d8a0&gt;,\n",
       "                stop_words=[&#x27;whom&#x27;, &#x27;about&#x27;, &#x27;into&#x27;, &#x27;her&#x27;, &#x27;itself&#x27;,\n",
       "                            &quot;should&#x27;ve&quot;, &#x27;you&#x27;, &#x27;below&#x27;, &#x27;ma&#x27;, &#x27;has&#x27;, &#x27;while&#x27;,\n",
       "                            &quot;shouldn&#x27;t&quot;, &#x27;how&#x27;, &#x27;once&#x27;, &#x27;doing&#x27;, &#x27;down&#x27;, &#x27;out&#x27;,\n",
       "                            &#x27;haven&#x27;, &#x27;can&#x27;, &#x27;mustn&#x27;, &#x27;further&#x27;, &#x27;for&#x27;,\n",
       "                            &#x27;against&#x27;, &#x27;up&#x27;, &#x27;as&#x27;, &#x27;only&#x27;, &#x27;doesn&#x27;, &#x27;is&#x27;,\n",
       "                            &#x27;them&#x27;, &#x27;at&#x27;, ...])</pre></div></div></div><div class=\"sk-item\"><div class=\"sk-estimator sk-toggleable\"><input class=\"sk-toggleable__control sk-hidden--visually\" id=\"sk-estimator-id-3\" type=\"checkbox\" ><label for=\"sk-estimator-id-3\" class=\"sk-toggleable__label sk-toggleable__label-arrow\">SVC</label><div class=\"sk-toggleable__content\"><pre>SVC(probability=True)</pre></div></div></div></div></div></div></div>"
      ],
      "text/plain": [
       "Pipeline(steps=[('vect',\n",
       "                 TfidfVectorizer(preprocessor=<function preprocessing_text at 0x157c3d8a0>,\n",
       "                                 stop_words=['whom', 'about', 'into', 'her',\n",
       "                                             'itself', \"should've\", 'you',\n",
       "                                             'below', 'ma', 'has', 'while',\n",
       "                                             \"shouldn't\", 'how', 'once',\n",
       "                                             'doing', 'down', 'out', 'haven',\n",
       "                                             'can', 'mustn', 'further', 'for',\n",
       "                                             'against', 'up', 'as', 'only',\n",
       "                                             'doesn', 'is', 'them', 'at', ...])),\n",
       "                ('clf', SVC(probability=True))])"
      ]
     },
     "execution_count": 5,
     "metadata": {},
     "output_type": "execute_result"
    }
   ],
   "source": [
    "# Train a basic model\n",
    "svc_pipe.fit(data_train.data, train_broad_labels_names)"
   ]
  },
  {
   "cell_type": "markdown",
   "metadata": {},
   "source": [
    "# Save LIME explanations to CSV"
   ]
  },
  {
   "cell_type": "code",
   "execution_count": 6,
   "metadata": {},
   "outputs": [],
   "source": [
    "def LIMEexplanationsText_toCSV(data, labels, classifier, k=6, n=5):\n",
    "    random.seed(42)\n",
    "    # Sample indices of instances with length >= 10\n",
    "    eligible_indices = [i for i, instance in enumerate(data.data) if len(instance) >= 10]\n",
    "    sampled_indices = random.sample(eligible_indices, n)\n",
    "    \n",
    "    # Use sampled indices to select instances and their corresponding labels\n",
    "    sampled_data = [data.data[i] for i in sampled_indices]\n",
    "    sampled_labels = [labels[i] for i in sampled_indices]\n",
    "    \n",
    "    classes = np.unique(labels)\n",
    "    explainer = LimeTextExplainer(random_state=1, class_names=classes)\n",
    "    explanations_instance = []\n",
    "    \n",
    "    for idx, (instance, label) in enumerate(zip(sampled_data, sampled_labels)):\n",
    "        expl_instance = {}\n",
    "        expl_instance['id'] = str(idx)\n",
    "        expl_instance['text'] = instance.strip(\"\\n\").strip()\n",
    "        expl_instance['pred'] = classifier.predict([instance])[0]\n",
    "        \n",
    "        probs = classifier.predict_proba([instance])[0]\n",
    "        max_prob = max(probs)\n",
    "        expl_instance['pred_prob'] = float(f\"{max_prob:.3f}\") \n",
    "        \n",
    "        expl_instance['true_label'] = label\n",
    "        \n",
    "        exp = explainer.explain_instance(instance, classifier.predict_proba, num_features=k, labels=range(len(classes)))\n",
    "    \n",
    "\n",
    "        for label in exp.available_labels():\n",
    "            expl_instance[classes[label]+\"_prob\"] = probs[label]\n",
    "            expl_instance[classes[label]+\"_rationales\"] = exp.as_list(label=(label))\n",
    "\n",
    "        explanations_instance.append(expl_instance)\n",
    "\n",
    "        print(idx+1,\" of \",len(sampled_indices), \"explained\")\n",
    "\n",
    "# Save to CSV\n",
    "    csv_columns = expl_instance.keys()\n",
    "    csv_file = \"LIME_Explanations_Faithfulness.csv\"\n",
    "\n",
    "    with open(csv_file, 'w') as csvfile:\n",
    "        writer = csv.DictWriter(csvfile, fieldnames=csv_columns)\n",
    "        writer.writeheader()\n",
    "        for data in explanations_instance:\n",
    "            writer.writerow(data)"
   ]
  },
  {
   "cell_type": "code",
   "execution_count": 7,
   "metadata": {},
   "outputs": [],
   "source": [
    "# Read the JSON file and parse it into a Python dictionary\n",
    "with open('params_LLM.json', 'r') as file:\n",
    "    params = json.load(file)"
   ]
  },
  {
   "cell_type": "markdown",
   "metadata": {},
   "source": [
    "# Save LIME explanations to CSV"
   ]
  },
  {
   "cell_type": "code",
   "execution_count": 8,
   "metadata": {},
   "outputs": [
    {
     "name": "stdout",
     "output_type": "stream",
     "text": [
      "1  of  50 explained\n",
      "2  of  50 explained\n",
      "3  of  50 explained\n",
      "4  of  50 explained\n",
      "5  of  50 explained\n",
      "6  of  50 explained\n",
      "7  of  50 explained\n",
      "8  of  50 explained\n",
      "9  of  50 explained\n",
      "10  of  50 explained\n",
      "11  of  50 explained\n",
      "12  of  50 explained\n",
      "13  of  50 explained\n",
      "14  of  50 explained\n",
      "15  of  50 explained\n",
      "16  of  50 explained\n",
      "17  of  50 explained\n",
      "18  of  50 explained\n",
      "19  of  50 explained\n",
      "20  of  50 explained\n",
      "21  of  50 explained\n",
      "22  of  50 explained\n",
      "23  of  50 explained\n",
      "24  of  50 explained\n",
      "25  of  50 explained\n",
      "26  of  50 explained\n",
      "27  of  50 explained\n",
      "28  of  50 explained\n",
      "29  of  50 explained\n",
      "30  of  50 explained\n",
      "31  of  50 explained\n",
      "32  of  50 explained\n",
      "33  of  50 explained\n",
      "34  of  50 explained\n",
      "35  of  50 explained\n",
      "36  of  50 explained\n",
      "37  of  50 explained\n",
      "38  of  50 explained\n",
      "39  of  50 explained\n",
      "40  of  50 explained\n",
      "41  of  50 explained\n",
      "42  of  50 explained\n",
      "43  of  50 explained\n",
      "44  of  50 explained\n",
      "45  of  50 explained\n",
      "46  of  50 explained\n",
      "47  of  50 explained\n",
      "48  of  50 explained\n",
      "49  of  50 explained\n",
      "50  of  50 explained\n"
     ]
    }
   ],
   "source": [
    "LIMEexplanationsText_toCSV(data=data_test, labels=test_broad_labels_names, classifier=svc_pipe, k=params[\"rationales\"][\"k\"], n=params[\"rationales\"][\"n\"])"
   ]
  },
  {
   "cell_type": "code",
   "execution_count": null,
   "metadata": {},
   "outputs": [],
   "source": []
  }
 ],
 "metadata": {
  "kernelspec": {
   "display_name": "base",
   "language": "python",
   "name": "python3"
  },
  "language_info": {
   "codemirror_mode": {
    "name": "ipython",
    "version": 3
   },
   "file_extension": ".py",
   "mimetype": "text/x-python",
   "name": "python",
   "nbconvert_exporter": "python",
   "pygments_lexer": "ipython3",
   "version": "3.11.5"
  }
 },
 "nbformat": 4,
 "nbformat_minor": 2
}
