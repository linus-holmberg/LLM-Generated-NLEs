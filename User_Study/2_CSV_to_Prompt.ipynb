{
 "cells": [
  {
   "cell_type": "code",
   "execution_count": 1,
   "metadata": {},
   "outputs": [],
   "source": [
    "import pandas as pd\n",
    "import re"
   ]
  },
  {
   "cell_type": "markdown",
   "metadata": {},
   "source": [
    "# Import CSV with LIME explanations"
   ]
  },
  {
   "cell_type": "code",
   "execution_count": 2,
   "metadata": {},
   "outputs": [],
   "source": [
    "# import file\n",
    "filename = 'LIME_Explanations_UserStudy.csv'\n",
    "df = pd.read_csv(filename)"
   ]
  },
  {
   "cell_type": "markdown",
   "metadata": {},
   "source": [
    "# Fromat the rationales"
   ]
  },
  {
   "cell_type": "code",
   "execution_count": 3,
   "metadata": {},
   "outputs": [],
   "source": [
    "import ast\n",
    "# Function to evaluate and format the rationales\n",
    "def safe_format_rationales(rationales_str):\n",
    "    try:\n",
    "        # Safely evaluate the string to convert it back to a list of tuples\n",
    "        rationales = ast.literal_eval(rationales_str)\n",
    "        # Format each tuple and round the value to 3 decimal places\n",
    "        formatted = [f\"'{key}': {value:.3f}\" for key, value in rationales]\n",
    "        return \", \".join(formatted)\n",
    "    except (ValueError, SyntaxError):\n",
    "        # In case of an error during evaluation, return a default message\n",
    "        return \"Could not parse format\"\n",
    "\n",
    "# Apply the function to the 'politics_rationales' column\n",
    "df['formatted_politics_rationales'] = df['politics_rationales'].apply(safe_format_rationales)\n",
    "df['formatted_science_rationales'] = df['science_rationales'].apply(safe_format_rationales)\n",
    "df['formatted_leisure_rationales'] = df['leisure_rationales'].apply(safe_format_rationales)\n"
   ]
  },
  {
   "cell_type": "markdown",
   "metadata": {},
   "source": [
    "# Create prompts"
   ]
  },
  {
   "cell_type": "code",
   "execution_count": 4,
   "metadata": {},
   "outputs": [],
   "source": [
    "# Create a new column 'prompt' with the desired information\n",
    "df['prompt'] = df.apply(lambda row: f\"Input: {row['text']}\\n\\nOutput: {row['pred']}\\nConfidence: {row['pred_prob']}\\nOutput rationale: {row['formatted_'+ str(row['pred']) +'_rationales']}.\", axis=1) \n",
    "\n",
    "df['prompt_no_rationale'] = df.apply(lambda row: f\"Input: {row['text']}\\n\\nOutput: {row['pred']}\\nConfidence: {row['pred_prob']}\", axis=1) \n"
   ]
  },
  {
   "cell_type": "markdown",
   "metadata": {},
   "source": [
    "# Add column with words from rationale"
   ]
  },
  {
   "cell_type": "code",
   "execution_count": 5,
   "metadata": {},
   "outputs": [],
   "source": [
    "# extract words in rationale for evaluation\n",
    "df['pred_rationales_words'] = df.apply(lambda row: f\"{row['formatted_'+ str(row['pred']) +'_rationales']}.\", axis=1) \n",
    "\n",
    "# Function to extract keys (words) using regular expressions\n",
    "def extract_words(rationale_str):\n",
    "    # Use regular expression to find all words (keys)\n",
    "    words = re.findall(r\"'([^']+)'\", rationale_str)\n",
    "    return words\n",
    "\n",
    "# Apply the function\n",
    "df['pred_rationales_words'] = df['pred_rationales_words'].apply(extract_words)"
   ]
  },
  {
   "cell_type": "markdown",
   "metadata": {},
   "source": [
    "# Drop some columns"
   ]
  },
  {
   "cell_type": "code",
   "execution_count": 6,
   "metadata": {},
   "outputs": [],
   "source": [
    "# Remove redundant columns\n",
    "df = df.drop(['politics_rationales', 'science_rationales', 'leisure_rationales'], axis=1)"
   ]
  },
  {
   "cell_type": "code",
   "execution_count": 7,
   "metadata": {},
   "outputs": [],
   "source": [
    "df.to_csv('prompts_user_study.csv', index=False)"
   ]
  },
  {
   "cell_type": "code",
   "execution_count": null,
   "metadata": {},
   "outputs": [],
   "source": []
  }
 ],
 "metadata": {
  "kernelspec": {
   "display_name": "base",
   "language": "python",
   "name": "python3"
  },
  "language_info": {
   "codemirror_mode": {
    "name": "ipython",
    "version": 3
   },
   "file_extension": ".py",
   "mimetype": "text/x-python",
   "name": "python",
   "nbconvert_exporter": "python",
   "pygments_lexer": "ipython3",
   "version": "3.11.5"
  }
 },
 "nbformat": 4,
 "nbformat_minor": 2
}
